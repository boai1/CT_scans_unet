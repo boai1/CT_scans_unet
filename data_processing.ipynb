{
 "cells": [
  {
   "cell_type": "markdown",
   "metadata": {},
   "source": [
    "# Data Preprocessing\n",
    "\n",
    "This notebook contains the preprocessing done on the CT-scan data\n",
    "\n",
    ">> Author: Bogdan Aioanei"
   ]
  },
  {
   "cell_type": "code",
   "execution_count": 1,
   "metadata": {},
   "outputs": [],
   "source": [
    "import os\n",
    "import numpy as np\n",
    "import nibabel as nib\n",
    "import matplotlib.pyplot as plt\n",
    "from scipy import ndimage\n",
    "import cv2\n",
    "from skimage.transform import resize"
   ]
  },
  {
   "cell_type": "markdown",
   "metadata": {},
   "source": [
    "### Get the filepaths for the 2 sets of CT scans"
   ]
  },
  {
   "cell_type": "code",
   "execution_count": null,
   "metadata": {},
   "outputs": [],
   "source": [
    "batch1_path = r\"./Training Batch 1/\"\n",
    "batch2_path = r\"./Training Batch 2/\"\n",
    "\n",
    "scan_batch1_paths = [\n",
    "    os.path.join(os.getcwd(), batch1_path, x)\n",
    "    for x in os.listdir(batch1_path)\n",
    "]\n",
    "\n",
    "scan_batch2_paths = [\n",
    "    os.path.join(os.getcwd(batch2_path),, x)\n",
    "    for x in os.listdir(batch2_path)\n",
    "]"
   ]
  },
  {
   "cell_type": "markdown",
   "metadata": {},
   "source": [
    "### Create some functions to preprocess the data"
   ]
  },
  {
   "cell_type": "code",
   "execution_count": null,
   "metadata": {},
   "outputs": [],
   "source": [
    "# process the volume-type files\n",
    "def process_file(filepath):\n",
    "    \"\"\"\n",
    "    This function is used for preprocessing of the volume-type CT-scans\n",
    "    \n",
    "    :param filepath: string variable representing the full path towards the CT-scan volume file\n",
    "    :returns: numpy array of containing pixel values of the pre-processed CT-scan volume \n",
    "    \n",
    "    \"\"\" \n",
    "    # get the data\n",
    "    scan = nib.load(filepath)\n",
    "    scan = scan.get_fdata()\n",
    "    scan = scan.astype(\"float32\")\n",
    "    \n",
    "    # normalize data\n",
    "    normalized_scan = scan/np.linalg.norm(scan)\n",
    "    \n",
    "    # resize the images\n",
    "    new_width = 128\n",
    "    new_height = 128\n",
    "    new_depth = 64\n",
    "    \n",
    "    # Get current depth\n",
    "    old_depth = scan.shape[-1]\n",
    "    old_width = scan.shape[0]\n",
    "    old_height = scan.shape[1]\n",
    "    \n",
    "    depth_factor = new_depth / old_depth\n",
    "    \n",
    "    # rotate 90 degrees\n",
    "    img = ndimage.rotate(normalized_scan, 90, reshape=False)\n",
    "    \n",
    "    # zoom in\n",
    "    img = ndimage.zoom(img, (0.25, 0.25, depth_factor), order=1)\n",
    "    \n",
    "    return img\n",
    "\n",
    "def process_masks(filepath):\n",
    "    \"\"\"\n",
    "    This function is used for preprocessing of the segmentation-type CT-scans, i.e. ground truth 'volumes'\n",
    "    \n",
    "    :param filepath: string variable representing the full path towards the CT-scan segmentation file\n",
    "    :returns: numpy array of containing pixel values of the pre-processed CT-scan segmentation\n",
    "    \"\"\"\n",
    "    # get the data\n",
    "    scan = nib.load(filepath)\n",
    "    scan = scan.get_fdata()\n",
    "    scan = scan.astype(\"float32\")\n",
    "    \n",
    "    # rotate 90 degrees\n",
    "    img = ndimage.rotate(scan, 90, reshape=False)\n",
    "    \n",
    "    img = resize(img, (128, 128, 64), mode = 'constant', preserve_range = True)\n",
    "    \n",
    "    # approximate the values of the array back to the ground truths, i.e. : 0, 1 and 2\n",
    "    img_app = np.rint(img)\n",
    "    \n",
    "    return img_app"
   ]
  },
  {
   "cell_type": "markdown",
   "metadata": {},
   "source": [
    "### Preprocess the data using the previously created functions"
   ]
  },
  {
   "cell_type": "code",
   "execution_count": null,
   "metadata": {},
   "outputs": [],
   "source": [
    "# create some variables to store the data\n",
    "test_volumes = []\n",
    "test_labels = []\n",
    "\n",
    "train_volumes = []\n",
    "train_labels = []\n",
    "\n",
    "for filepath in scan_batch1_paths:\n",
    "    if 'segmentation-' in filepath:\n",
    "        test_segmentation_label = process_masks(filepath)\n",
    "        test_labels.append(test_segmentation_label)\n",
    "        \n",
    "    if 'volume-' in filepath:\n",
    "        test_volume = process_file(filepath)\n",
    "        test_volumes.append(test_volume)\n",
    "\n",
    "for filepath in scan_batch2_paths:\n",
    "    if 'segmentation-' in filepath:\n",
    "        train_segmentation_label = process_masks(filepath)\n",
    "        train_labels.append(train_segmentation_label)\n",
    "        \n",
    "    if 'volume-' in filepath:\n",
    "        train_volume = process_file(filepath)\n",
    "        train_volumes.append(train_volume)"
   ]
  },
  {
   "cell_type": "markdown",
   "metadata": {},
   "source": [
    "### Further process the data and save it in numpy.array format"
   ]
  },
  {
   "cell_type": "code",
   "execution_count": null,
   "metadata": {},
   "outputs": [],
   "source": [
    "# Define the dimensions of the numpy arrays which will contain train / test data\n",
    "len_train = int(len(scan_batch2_paths) / 2)\n",
    "len_test = int(len(scan_batch1_paths) / 2)\n",
    "\n",
    "img_depth = 64\n",
    "\n",
    "X_train = np.zeros((len_train*img_depth, 128, 128, 3), dtype=np.float32)\n",
    "y_train = np.zeros((len_train*img_depth, 128, 128, 1), dtype=np.float32)\n",
    "\n",
    "X_test = np.zeros((len_test*img_depth, 128, 128, 3), dtype=np.float32)\n",
    "y_test = np.zeros((len_test*img_depth, 128, 128, 1), dtype=np.float32)"
   ]
  },
  {
   "cell_type": "code",
   "execution_count": null,
   "metadata": {},
   "outputs": [],
   "source": [
    "# process the data \n",
    "pos = 0\n",
    "for image in test_volumes:\n",
    "    # split each image from the volume into 3 channels (RGB)\n",
    "    for i in range(64):\n",
    "        current_img = image[:,:,i]\n",
    "        current_img = cv2.cvtColor(current_img, cv2.COLOR_GRAY2RGB)\n",
    "        X_test[pos] = current_img\n",
    "        pos += 1\n",
    "\n",
    "pos = 0\n",
    "for image in train_volumes:\n",
    "    # split each image from the volume into 3 channels (RGB)\n",
    "    for i in range(64):\n",
    "        current_img = image[:,:,i]\n",
    "        current_img = cv2.cvtColor(current_img, cv2.COLOR_GRAY2RGB)\n",
    "        X_train[pos] = current_img\n",
    "        pos += 1\n",
    "\n",
    "pos = 0\n",
    "for image in train_labels:\n",
    "    for i in range(64):\n",
    "        current_img = image[:,:,i]\n",
    "        # reshape the segmentation data\n",
    "        current_img_reshaped = current_img.reshape(128,128,1)\n",
    "        y_train[pos] = current_img_reshaped\n",
    "        pos += 1\n",
    "\n",
    "pos = 0\n",
    "for image in test_labels:\n",
    "    for i in range(64):\n",
    "        current_img = image[:,:,i]\n",
    "        # reshape the segmentation data\n",
    "        current_img_reshaped = current_img.reshape(128,128,1)\n",
    "        y_test[pos] = current_img_reshaped\n",
    "        pos += 1"
   ]
  },
  {
   "cell_type": "markdown",
   "metadata": {},
   "source": [
    "### Define a function to save the processed data locally"
   ]
  },
  {
   "cell_type": "code",
   "execution_count": null,
   "metadata": {},
   "outputs": [],
   "source": [
    "# save variable to file\n",
    "import pickle\n",
    "\n",
    "def save_variable_to_local(variable, local_path):\n",
    "    \"\"\"\n",
    "    This function is used saving the data locally\n",
    "    \n",
    "    :param variable: variable that needs to be saved\n",
    "    :param local_path: string path indicating where to save the variable\n",
    "    \"\"\" \n",
    "    file = open(local_path, 'wb')\n",
    "    pickle.dump(variable, file)\n",
    "    file.close()"
   ]
  },
  {
   "cell_type": "code",
   "execution_count": null,
   "metadata": {},
   "outputs": [],
   "source": [
    "# save the variables to local files for later usage\n",
    "test_label_path = r\"D:\\Facultate\\job\\media\\nas\\01_Datasets\\CT\\LITS/y_test2.pckl\"\n",
    "test_volume_path = r\"D:\\Facultate\\job\\media\\nas\\01_Datasets\\CT\\LITS/X_test.pckl\"\n",
    "\n",
    "train_label_path = r\"D:\\Facultate\\job\\media\\nas\\01_Datasets\\CT\\LITS/y_train2.pckl\"\n",
    "train_volume_path = r\"D:\\Facultate\\job\\media\\nas\\01_Datasets\\CT\\LITS/X_train.pckl\"\n",
    "\n",
    "save_variable_to_local(y_test, test_label_path)\n",
    "save_variable_to_local(X_test, test_volume_path)\n",
    "save_variable_to_local(y_train, train_label_path)\n",
    "save_variable_to_local(X_train, train_volume_path)"
   ]
  }
 ],
 "metadata": {
  "kernelspec": {
   "display_name": "Python 3",
   "language": "python",
   "name": "python3"
  },
  "language_info": {
   "codemirror_mode": {
    "name": "ipython",
    "version": 3
   },
   "file_extension": ".py",
   "mimetype": "text/x-python",
   "name": "python",
   "nbconvert_exporter": "python",
   "pygments_lexer": "ipython3",
   "version": "3.8.5"
  }
 },
 "nbformat": 4,
 "nbformat_minor": 4
}
